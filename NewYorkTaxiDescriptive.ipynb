import numpy as np
import pandas as pd
import matplotlib as plt
import seaborn as sns
%matplotlib inline

df = pd.read_csv('C:/Users/user/Documents/nyt_kaggle/train.csv')
